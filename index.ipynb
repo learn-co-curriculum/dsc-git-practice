{
 "cells": [
  {
   "cell_type": "markdown",
   "metadata": {},
   "source": [
    "# Git Practice\n",
    "\n",
    "## Introduction\n",
    "\n",
    "Now that you've seen a little bit of the bash shell and cloned a Git repository from GitHub, its time to practice a full workflow cycle in a little more detail. In this lesson, we'll start by taking a look at how to create a new Git repository if you are not working from an existing one. From there, we'll further investigate how the concepts of `git add`, `git commit`, and `git push` work in practice.\n",
    "\n",
    "## Objectives\n",
    "\n",
    "You will be able to:\n",
    "\n",
    "* Create a new git repository\n",
    "* Compare local and remote repositories\n",
    "* Use `git add`, `git commit`, and `git push` to make changes to a repository"
   ]
  },
  {
   "cell_type": "markdown",
   "metadata": {},
   "source": [
    "## Creating a New Git Repository\n",
    "\n",
    "In order to create a new Git repository, start by going to `https://github.com/new`.\n",
    "\n",
    "(Alternatively, you can click the New button under the repositories tab of you profile page)\n",
    "\n",
    "<img src=\"https://raw.githubusercontent.com/learn-co-curriculum/dsc-git-practice/master/images/repos_page_new_button.png\" width=550>\n",
    "\n",
    "Either way, you'll then end up at the `https://github.com/new` page:\n",
    "\n",
    "<img src=\"https://raw.githubusercontent.com/learn-co-curriculum/dsc-git-practice/master/images/github_new.png\" width=550>"
   ]
  },
  {
   "cell_type": "markdown",
   "metadata": {},
   "source": [
    "Here, you have several fields to go through:\n",
    "\n",
    "1. Naming the repository\n",
    "    1. For this example, make the repository name `git_practice` \n",
    "2. Description\n",
    "    1. Optional as described; leave it blank for now\n",
    "3. The public vs private \n",
    "    1. Do you want this code to be publicly visible to everyone on GitHub or do you wish to keep it private?\n",
    "    2. Public is probably fine for this\n",
    "4. Initialize this repository with a README\n",
    "    1. **This option is very important!**\n",
    "        1. If you check this box then you will clone the online repository as we did before and work from there\n",
    "        2. If you don't check this box, then you will start from your local computer and then attach that work to the online repository.\n",
    "\n",
    "\n",
    "For now, name the repository `git_practice`, select public and **do NOT check the readme box**.\n",
    "Then click create repository.\n",
    "\n",
    "<img src=\"https://raw.githubusercontent.com/learn-co-curriculum/dsc-git-practice/master/images/git_practice_new.png\" width=550>"
   ]
  },
  {
   "cell_type": "markdown",
   "metadata": {},
   "source": [
    "You'll see a page like this:\n",
    "\n",
    "> Note: The screenshots here use the word `master` which is a legacy term that is still used in GitHub. It is more common now, and what you are likely to see, is `main`.\n",
    "\n",
    "<img src=\"https://raw.githubusercontent.com/learn-co-curriculum/dsc-git-practice/master/images/git_practice_blank_repo.png\" width=550>\n"
   ]
  },
  {
   "cell_type": "markdown",
   "metadata": {},
   "source": [
    "This says it all!\n",
    "\n",
    "Here's an explanation of the steps we're going to follow:\n",
    "\n",
    "1.  Create a directory (GitHub doesn't tell you to do this, but we want to organize and contain what we're sending to the web) \n",
    "2.  `echo \"# git_practice\" >> README.md`: `echo` is a bash command which will create a markdown file `README.md` with the text `\"# git_practice\"` \n",
    "3. `git init`: This turns the current directory into a Git repository\n",
    "4. `git add README.md`: Now that the current folder is a Git repository from `git init`, we can add files for Git to track \n",
    "5. `git commit -m \"first commit\"`: Once files have been added to Git, we commit them. The `-m` option is for leaving a comment which is required \n",
    "6. `git remote add origin url_goes_here`: By default, git does not have to be connected to an online platform like GitHub. You can use Git locally for version control too. There are also other online Git platforms like Bitbucket and GitLab. Here, you're adding a link to GitHub's online hosting so that you can also sync your work with the cloud. This is super handy for sharing your work with others, collaborating, or any of the other reasons why cloud services are used \n",
    "    \n",
    "Again, now that you have an overview, let's have at it!"
   ]
  },
  {
   "cell_type": "markdown",
   "metadata": {},
   "source": [
    "## Create a new directory for your repo\n",
    "\n",
    "* Open up your command line (mac: terminal, windows: git bash) \n",
    "* Navigate to the appropriate directory such as /Documents/Flatiron/Module\\_2\\_Git\\_Bash (or however you plan to organize your course materials)\n",
    "* Create a new folder for this lesson `mkdir git_practice`"
   ]
  },
  {
   "cell_type": "markdown",
   "metadata": {},
   "source": [
    "## Navigate into your new folder\n",
    "\n",
    "`cd git_practice`"
   ]
  },
  {
   "cell_type": "markdown",
   "metadata": {},
   "source": [
    "## Initialize this folder as a git repository\n",
    "\n",
    "`git init`"
   ]
  },
  {
   "cell_type": "markdown",
   "metadata": {},
   "source": [
    "## Create a README\n",
    "\n",
    "* `echo \"# git_practice\" >> README.md` as described works perfectly well\n",
    "* Alternatively, if you're feeling adventurous, you can try a text editor such as nano, vim, or emacs \n",
    "    * If you're going the adventurous route, try `nano README.txt` for now and then type \"# git_practice\" in the file. Press \"Ctrl+X\" to quit and press \"Y\" to confirm you wish to save your changes \n"
   ]
  },
  {
   "cell_type": "markdown",
   "metadata": {},
   "source": [
    "## Git Status\n",
    "\n",
    "While not required, let's get familiar with what's going on with `git status`."
   ]
  },
  {
   "cell_type": "markdown",
   "metadata": {},
   "source": [
    "## Git Add\n",
    "\n",
    "Add your file. You can use `git add README.md` or `git add --all` (if there were multiple files, you would add all of them). "
   ]
  },
  {
   "cell_type": "markdown",
   "metadata": {},
   "source": [
    "## Git Status\n",
    "\n",
    "Again, not required but helpful to get familiar with everything. Try it again and note the difference: `git status`. "
   ]
  },
  {
   "cell_type": "markdown",
   "metadata": {},
   "source": [
    "## Git Commit\n",
    "\n",
    "Now that we've added the files, we're ready to finalize them to our version history. Commit them with `git commit -m \"your message here\"`. "
   ]
  },
  {
   "cell_type": "markdown",
   "metadata": {},
   "source": [
    "## Add a Remote Location\n",
    "\n",
    "Again, remember that Git itself is a version control system that can be used anywhere. GitHub is an online hosting platform allowing us to take Git repositories to the cloud to share and collaborate. By adding a remote location, we are able to sync our work between online and offline and collaborate with others. The `origin` is simply a default naming convention symbolizing that the online version will be the central source of truth for this repository.\n",
    "\n",
    "With that, we can set it up with\n",
    "\n",
    "`git remote add origin the_url_for_the_repo`\n",
    "\n",
    "Generally, it's easiest to simply copy and paste from the code provided by GitHub."
   ]
  },
  {
   "cell_type": "markdown",
   "metadata": {},
   "source": [
    "## Pushing our changes\n",
    "\n",
    "We've already added our **README.md** file to Git and committed the changes. While these changes are present and up to date (take a look at `git status` again), they are not reflected online yet as we haven't synced our updates with our online version. To do this, type `git push origin main`.  \n",
    "\n",
    "If you are wondering what `main` is, it's the name of our branch. You can use branches in git to separate versions of code from each other. A common example comes from web development for production environments. The `main` branch usually contains the working code for the website or app in production, and then other branches can be created for developing updates and new features, while not breaking the current working version. `main` is the default branch for all Git repositories, and we'll take a further look into branches in general in the upcoming lessons."
   ]
  },
  {
   "cell_type": "markdown",
   "metadata": {},
   "source": [
    "## Previewing Changes\n",
    "\n",
    "Now that you've pushed your changes online, refresh the GitHub page. You should now see a little page like this:\n",
    "\n",
    "<img src=\"https://raw.githubusercontent.com/learn-co-curriculum/dsc-git-practice/master/images/git_repo.png\" width=550>\n",
    "\n",
    "Congratulations! You just created your first Git repository!"
   ]
  },
  {
   "cell_type": "markdown",
   "metadata": {},
   "source": [
    "## Summary\n",
    "\n",
    "In this lesson, we continued to practice our bash skills with the command line and started practicing our version control skills with Git. We created our first Git repository from scratch, and practiced adding, committing, and pushing those changes to GitHub."
   ]
  }
 ],
 "metadata": {
  "kernelspec": {
   "display_name": "Python 3",
   "language": "python",
   "name": "python3"
  },
  "language_info": {
   "codemirror_mode": {
    "name": "ipython",
    "version": 3
   },
   "file_extension": ".py",
   "mimetype": "text/x-python",
   "name": "python",
   "nbconvert_exporter": "python",
   "pygments_lexer": "ipython3",
   "version": "3.8.5"
  },
  "toc": {
   "base_numbering": 1,
   "nav_menu": {},
   "number_sections": true,
   "sideBar": true,
   "skip_h1_title": false,
   "title_cell": "Table of Contents",
   "title_sidebar": "Contents",
   "toc_cell": false,
   "toc_position": {},
   "toc_section_display": true,
   "toc_window_display": false
  }
 },
 "nbformat": 4,
 "nbformat_minor": 2
}
